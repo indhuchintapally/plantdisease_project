{
  "cells": [
    {
      "cell_type": "markdown",
      "metadata": {
        "id": "view-in-github",
        "colab_type": "text"
      },
      "source": [
        "<a href=\"https://colab.research.google.com/github/indhuchintapally/plantdisease_project/blob/main/Welcome_To_Colab.ipynb\" target=\"_parent\"><img src=\"https://colab.research.google.com/assets/colab-badge.svg\" alt=\"Open In Colab\"/></a>"
      ]
    },
    {
      "cell_type": "markdown",
      "source": [
        "Start Google Colabs - Import Drive\n",
        "\n"
      ],
      "metadata": {
        "id": "WIEY0hz5Ccrl"
      }
    },
    {
      "cell_type": "code",
      "source": [
        "from google.colab import drive"
      ],
      "metadata": {
        "id": "-parNQVfCkit"
      },
      "execution_count": 11,
      "outputs": []
    },
    {
      "cell_type": "markdown",
      "source": [
        "Find Present Working Directory"
      ],
      "metadata": {
        "id": "UYql-v6VEFV4"
      }
    },
    {
      "cell_type": "code",
      "source": [
        "pwd"
      ],
      "metadata": {
        "id": "qX9Pi877FzDz",
        "outputId": "4c1fb578-15a8-4792-cb17-35ba48702b21",
        "colab": {
          "base_uri": "https://localhost:8080/",
          "height": 35
        }
      },
      "execution_count": 20,
      "outputs": [
        {
          "output_type": "execute_result",
          "data": {
            "text/plain": [
              "'/content'"
            ],
            "application/vnd.google.colaboratory.intrinsic+json": {
              "type": "string"
            }
          },
          "metadata": {},
          "execution_count": 20
        }
      ]
    },
    {
      "cell_type": "markdown",
      "source": [
        "Find content of Present Working Directory"
      ],
      "metadata": {
        "id": "uwFpWWUcF1E6"
      }
    },
    {
      "cell_type": "code",
      "source": [
        "ls /mall_customers.csv"
      ],
      "metadata": {
        "id": "UW3o65G8FO1u",
        "outputId": "768f039e-9331-4a48-d539-6f691fc94d24",
        "colab": {
          "base_uri": "https://localhost:8080/"
        }
      },
      "execution_count": 21,
      "outputs": [
        {
          "output_type": "stream",
          "name": "stdout",
          "text": [
            "/mall_customers.csv\n"
          ]
        }
      ]
    },
    {
      "cell_type": "markdown",
      "source": [
        "Install PySpark"
      ],
      "metadata": {
        "id": "w8FPCp42FVYW"
      }
    },
    {
      "cell_type": "code",
      "source": [
        "!pip install pyspark"
      ],
      "metadata": {
        "id": "i-blyOdsFaSK",
        "outputId": "4bf7f0da-171c-46f7-f8fd-e374ce6f7a6b",
        "colab": {
          "base_uri": "https://localhost:8080/"
        }
      },
      "execution_count": 18,
      "outputs": [
        {
          "output_type": "stream",
          "name": "stdout",
          "text": [
            "Requirement already satisfied: pyspark in /usr/local/lib/python3.10/dist-packages (3.5.3)\n",
            "Requirement already satisfied: py4j==0.10.9.7 in /usr/local/lib/python3.10/dist-packages (from pyspark) (0.10.9.7)\n"
          ]
        }
      ]
    },
    {
      "cell_type": "markdown",
      "source": [
        "Import Spark Session"
      ],
      "metadata": {
        "id": "80ITH8COFjOL"
      }
    },
    {
      "cell_type": "code",
      "source": [
        "from pyspark.sql import SparkSession"
      ],
      "metadata": {
        "id": "gLJfV2DFFkZ1"
      },
      "execution_count": 19,
      "outputs": []
    },
    {
      "cell_type": "code",
      "source": [
        "spark = SparkSession.builder.appName(\"week11\").getOrCreate()\n"
      ],
      "metadata": {
        "id": "1uHwGXiJGQ2J"
      },
      "execution_count": 22,
      "outputs": []
    },
    {
      "cell_type": "code",
      "source": [
        "spark"
      ],
      "metadata": {
        "id": "abQmR8C_Gk0L",
        "outputId": "c5e637fc-93dd-49f0-8976-8686a381deb0",
        "colab": {
          "base_uri": "https://localhost:8080/",
          "height": 219
        }
      },
      "execution_count": 23,
      "outputs": [
        {
          "output_type": "execute_result",
          "data": {
            "text/plain": [
              "<pyspark.sql.session.SparkSession at 0x7b9366a517b0>"
            ],
            "text/html": [
              "\n",
              "            <div>\n",
              "                <p><b>SparkSession - in-memory</b></p>\n",
              "                \n",
              "        <div>\n",
              "            <p><b>SparkContext</b></p>\n",
              "\n",
              "            <p><a href=\"http://7f7a36441d9b:4040\">Spark UI</a></p>\n",
              "\n",
              "            <dl>\n",
              "              <dt>Version</dt>\n",
              "                <dd><code>v3.5.3</code></dd>\n",
              "              <dt>Master</dt>\n",
              "                <dd><code>local[*]</code></dd>\n",
              "              <dt>AppName</dt>\n",
              "                <dd><code>week11</code></dd>\n",
              "            </dl>\n",
              "        </div>\n",
              "        \n",
              "            </div>\n",
              "        "
            ]
          },
          "metadata": {},
          "execution_count": 23
        }
      ]
    },
    {
      "cell_type": "code",
      "source": [
        "spark"
      ],
      "metadata": {
        "id": "xdQBIvhZI5Jy",
        "outputId": "223fac23-7199-47b7-c6a7-320efb5febb8",
        "colab": {
          "base_uri": "https://localhost:8080/",
          "height": 219
        }
      },
      "execution_count": 27,
      "outputs": [
        {
          "output_type": "execute_result",
          "data": {
            "text/plain": [
              "<pyspark.sql.session.SparkSession at 0x7b9366a517b0>"
            ],
            "text/html": [
              "\n",
              "            <div>\n",
              "                <p><b>SparkSession - in-memory</b></p>\n",
              "                \n",
              "        <div>\n",
              "            <p><b>SparkContext</b></p>\n",
              "\n",
              "            <p><a href=\"http://7f7a36441d9b:4040\">Spark UI</a></p>\n",
              "\n",
              "            <dl>\n",
              "              <dt>Version</dt>\n",
              "                <dd><code>v3.5.3</code></dd>\n",
              "              <dt>Master</dt>\n",
              "                <dd><code>local[*]</code></dd>\n",
              "              <dt>AppName</dt>\n",
              "                <dd><code>week11</code></dd>\n",
              "            </dl>\n",
              "        </div>\n",
              "        \n",
              "            </div>\n",
              "        "
            ]
          },
          "metadata": {},
          "execution_count": 27
        }
      ]
    },
    {
      "cell_type": "code",
      "source": [
        "df = spark.read.csv('/mall_customers.csv', header=True)"
      ],
      "metadata": {
        "id": "WuKkcjhNI-HQ"
      },
      "execution_count": 29,
      "outputs": []
    },
    {
      "cell_type": "code",
      "source": [
        "print(type(df))"
      ],
      "metadata": {
        "id": "cziiQFOTJIqU",
        "outputId": "7ab776aa-a7d1-4a29-ab57-779176d8c28c",
        "colab": {
          "base_uri": "https://localhost:8080/"
        }
      },
      "execution_count": 30,
      "outputs": [
        {
          "output_type": "stream",
          "name": "stdout",
          "text": [
            "<class 'pyspark.sql.dataframe.DataFrame'>\n"
          ]
        }
      ]
    },
    {
      "cell_type": "code",
      "source": [
        "df.printSchema()"
      ],
      "metadata": {
        "id": "czezLu1SJPlg",
        "outputId": "d2f845f3-1c9e-4b44-bd34-e26b896955eb",
        "colab": {
          "base_uri": "https://localhost:8080/"
        }
      },
      "execution_count": 31,
      "outputs": [
        {
          "output_type": "stream",
          "name": "stdout",
          "text": [
            "root\n",
            " |-- CustomerID: string (nullable = true)\n",
            " |-- Genre: string (nullable = true)\n",
            " |-- Age: string (nullable = true)\n",
            " |-- AnnualIncome: string (nullable = true)\n",
            " |-- SpendingScore: string (nullable = true)\n",
            "\n"
          ]
        }
      ]
    },
    {
      "cell_type": "code",
      "source": [
        "df.show()"
      ],
      "metadata": {
        "id": "v3YhO5vsJVgv",
        "outputId": "e22c107e-6c27-430d-a085-598794678cfb",
        "colab": {
          "base_uri": "https://localhost:8080/"
        }
      },
      "execution_count": 32,
      "outputs": [
        {
          "output_type": "stream",
          "name": "stdout",
          "text": [
            "+----------+------+---+------------+-------------+\n",
            "|CustomerID| Genre|Age|AnnualIncome|SpendingScore|\n",
            "+----------+------+---+------------+-------------+\n",
            "|      0001|  Male| 19|          15|           39|\n",
            "|      0002|  Male| 21|          15|           81|\n",
            "|      0003|Female| 20|          16|            6|\n",
            "|      0004|Female| 23|          16|           77|\n",
            "|      0005|Female| 31|          17|           40|\n",
            "|      0006|Female| 22|          17|           76|\n",
            "|      0007|Female| 35|          18|            6|\n",
            "|      0008|Female| 23|          18|           94|\n",
            "|      0009|  Male| 64|          19|            3|\n",
            "|      0010|Female| 30|          19|           72|\n",
            "|      0011|  Male| 67|          19|           14|\n",
            "|      0012|Female| 35|          19|           99|\n",
            "|      0013|Female| 58|          20|           15|\n",
            "|      0014|Female| 24|          20|           77|\n",
            "|      0015|  Male| 37|          20|           13|\n",
            "|      0016|  Male| 22|          20|           79|\n",
            "|      0017|Female| 35|          21|           35|\n",
            "|      0018|  Male| 20|          21|           66|\n",
            "|      0019|  Male| 52|          23|           29|\n",
            "|      0020|Female| 35|          23|           98|\n",
            "+----------+------+---+------------+-------------+\n",
            "only showing top 20 rows\n",
            "\n"
          ]
        }
      ]
    },
    {
      "cell_type": "code",
      "source": [
        "df.show(10)"
      ],
      "metadata": {
        "id": "McH5EYAVJwy3",
        "outputId": "bf6dd634-fae1-4bf0-8b33-1f4f9b2f936c",
        "colab": {
          "base_uri": "https://localhost:8080/"
        }
      },
      "execution_count": 33,
      "outputs": [
        {
          "output_type": "stream",
          "name": "stdout",
          "text": [
            "+----------+------+---+------------+-------------+\n",
            "|CustomerID| Genre|Age|AnnualIncome|SpendingScore|\n",
            "+----------+------+---+------------+-------------+\n",
            "|      0001|  Male| 19|          15|           39|\n",
            "|      0002|  Male| 21|          15|           81|\n",
            "|      0003|Female| 20|          16|            6|\n",
            "|      0004|Female| 23|          16|           77|\n",
            "|      0005|Female| 31|          17|           40|\n",
            "|      0006|Female| 22|          17|           76|\n",
            "|      0007|Female| 35|          18|            6|\n",
            "|      0008|Female| 23|          18|           94|\n",
            "|      0009|  Male| 64|          19|            3|\n",
            "|      0010|Female| 30|          19|           72|\n",
            "+----------+------+---+------------+-------------+\n",
            "only showing top 10 rows\n",
            "\n"
          ]
        }
      ]
    },
    {
      "cell_type": "code",
      "source": [
        "df.count()"
      ],
      "metadata": {
        "id": "hRvvKwixJ2Zn",
        "outputId": "fa193aca-98a5-4937-a740-689ae3871764",
        "colab": {
          "base_uri": "https://localhost:8080/"
        }
      },
      "execution_count": 34,
      "outputs": [
        {
          "output_type": "execute_result",
          "data": {
            "text/plain": [
              "200"
            ]
          },
          "metadata": {},
          "execution_count": 34
        }
      ]
    },
    {
      "cell_type": "code",
      "source": [
        "df.select('CustomerID','Genre','Age').show(10)"
      ],
      "metadata": {
        "id": "IJCMA3yXJ68c",
        "outputId": "b637fab0-0013-44c5-8592-a6079b4f9bf9",
        "colab": {
          "base_uri": "https://localhost:8080/"
        }
      },
      "execution_count": 35,
      "outputs": [
        {
          "output_type": "stream",
          "name": "stdout",
          "text": [
            "+----------+------+---+\n",
            "|CustomerID| Genre|Age|\n",
            "+----------+------+---+\n",
            "|      0001|  Male| 19|\n",
            "|      0002|  Male| 21|\n",
            "|      0003|Female| 20|\n",
            "|      0004|Female| 23|\n",
            "|      0005|Female| 31|\n",
            "|      0006|Female| 22|\n",
            "|      0007|Female| 35|\n",
            "|      0008|Female| 23|\n",
            "|      0009|  Male| 64|\n",
            "|      0010|Female| 30|\n",
            "+----------+------+---+\n",
            "only showing top 10 rows\n",
            "\n"
          ]
        }
      ]
    },
    {
      "cell_type": "code",
      "source": [
        "df.orderBy('Genre').show()"
      ],
      "metadata": {
        "id": "1eQC4oTiJ--0",
        "outputId": "4075ac05-b505-4db8-9929-72e9d1c410b0",
        "colab": {
          "base_uri": "https://localhost:8080/"
        }
      },
      "execution_count": 36,
      "outputs": [
        {
          "output_type": "stream",
          "name": "stdout",
          "text": [
            "+----------+------+---+------------+-------------+\n",
            "|CustomerID| Genre|Age|AnnualIncome|SpendingScore|\n",
            "+----------+------+---+------------+-------------+\n",
            "|      0023|Female| 46|          25|            5|\n",
            "|      0051|Female| 49|          42|           52|\n",
            "|      0025|Female| 54|          28|           14|\n",
            "|      0032|Female| 21|          30|           73|\n",
            "|      0050|Female| 31|          40|           42|\n",
            "|      0035|Female| 49|          33|           14|\n",
            "|      0005|Female| 31|          17|           40|\n",
            "|      0036|Female| 21|          33|           81|\n",
            "|      0007|Female| 35|          18|            6|\n",
            "|      0037|Female| 42|          34|           17|\n",
            "|      0010|Female| 30|          19|           72|\n",
            "|      0038|Female| 30|          34|           73|\n",
            "|      0013|Female| 58|          20|           15|\n",
            "|      0039|Female| 36|          37|           26|\n",
            "|      0017|Female| 35|          21|           35|\n",
            "|      0040|Female| 20|          37|           75|\n",
            "|      0003|Female| 20|          16|            6|\n",
            "|      0041|Female| 65|          38|           35|\n",
            "|      0029|Female| 40|          29|           31|\n",
            "|      0044|Female| 31|          39|           61|\n",
            "+----------+------+---+------------+-------------+\n",
            "only showing top 20 rows\n",
            "\n"
          ]
        }
      ]
    },
    {
      "cell_type": "code",
      "source": [
        "df = df.withColumn(\"Age\",df['age'].cast(\"Integer\"))\n",
        "df.printSchema()\n",
        "\n",
        "df = df.withColumn(\"AnnualIncome\",df['annualincome'].cast(\"Integer\"))\n",
        "df.printSchema()\n"
      ],
      "metadata": {
        "id": "ioKHsIMjKiaP",
        "outputId": "ba3f5051-c4f7-4eaf-bd72-762520f98cc8",
        "colab": {
          "base_uri": "https://localhost:8080/"
        }
      },
      "execution_count": 47,
      "outputs": [
        {
          "output_type": "stream",
          "name": "stdout",
          "text": [
            "root\n",
            " |-- CustomerID: string (nullable = true)\n",
            " |-- Genre: string (nullable = true)\n",
            " |-- Age: integer (nullable = true)\n",
            " |-- AnnualIncome: integer (nullable = true)\n",
            " |-- SpendingScore: string (nullable = true)\n",
            "\n",
            "root\n",
            " |-- CustomerID: string (nullable = true)\n",
            " |-- Genre: string (nullable = true)\n",
            " |-- Age: integer (nullable = true)\n",
            " |-- AnnualIncome: integer (nullable = true)\n",
            " |-- SpendingScore: string (nullable = true)\n",
            "\n"
          ]
        }
      ]
    },
    {
      "cell_type": "code",
      "source": [
        "df.groupBy(\"Genre\").count().show()\n"
      ],
      "metadata": {
        "id": "TR1rdtDhKmWO",
        "outputId": "ba6c6dfe-c30e-4213-9f4f-a54c9e21c239",
        "colab": {
          "base_uri": "https://localhost:8080/"
        }
      },
      "execution_count": 48,
      "outputs": [
        {
          "output_type": "stream",
          "name": "stdout",
          "text": [
            "+------+-----+\n",
            "| Genre|count|\n",
            "+------+-----+\n",
            "|Female|  112|\n",
            "|  Male|   88|\n",
            "+------+-----+\n",
            "\n"
          ]
        }
      ]
    },
    {
      "cell_type": "code",
      "source": [
        "df.select(\"Genre\").distinct().show()"
      ],
      "metadata": {
        "id": "-4HNiLvRKqGV",
        "outputId": "ab6e44a6-fb30-44f8-91c3-2bb1c6488995",
        "colab": {
          "base_uri": "https://localhost:8080/"
        }
      },
      "execution_count": 49,
      "outputs": [
        {
          "output_type": "stream",
          "name": "stdout",
          "text": [
            "+------+\n",
            "| Genre|\n",
            "+------+\n",
            "|Female|\n",
            "|  Male|\n",
            "+------+\n",
            "\n"
          ]
        }
      ]
    },
    {
      "cell_type": "code",
      "source": [
        "df.describe().show()"
      ],
      "metadata": {
        "id": "SQgxwl49Kp_R",
        "outputId": "83417824-e5ab-4d45-a6a9-438e399c37a9",
        "colab": {
          "base_uri": "https://localhost:8080/"
        }
      },
      "execution_count": 51,
      "outputs": [
        {
          "output_type": "stream",
          "name": "stdout",
          "text": [
            "+-------+------------------+------+-----------------+-----------------+------------------+\n",
            "|summary|        CustomerID| Genre|              Age|     AnnualIncome|     SpendingScore|\n",
            "+-------+------------------+------+-----------------+-----------------+------------------+\n",
            "|  count|               200|   200|              200|              200|               200|\n",
            "|   mean|             100.5|  NULL|            38.85|            60.56|              50.2|\n",
            "| stddev|57.879184513951124|  NULL|13.96900733155888|26.26472116527124|25.823521668370173|\n",
            "|    min|              0001|Female|               18|               15|                 1|\n",
            "|    max|              0200|  Male|               70|              137|                99|\n",
            "+-------+------------------+------+-----------------+-----------------+------------------+\n",
            "\n"
          ]
        }
      ]
    },
    {
      "cell_type": "code",
      "source": [
        "import pyspark.sql.functions as F\n",
        "from pyspark.sql.types import *"
      ],
      "metadata": {
        "id": "Fm_b9xDVNuHw"
      },
      "execution_count": 55,
      "outputs": []
    },
    {
      "cell_type": "code",
      "source": [
        "df1 = df.select(F.col(\"CustomerID\"),F.lit(\"Warrensburg Missouri\").alias(\"location\"))\n",
        "df.show()"
      ],
      "metadata": {
        "id": "2hHLG-XVOUf5",
        "outputId": "36784dcb-bac7-4c73-8dd2-4e76af2587a3",
        "colab": {
          "base_uri": "https://localhost:8080/"
        }
      },
      "execution_count": 58,
      "outputs": [
        {
          "output_type": "stream",
          "name": "stdout",
          "text": [
            "+----------+------+---+------------+-------------+\n",
            "|CustomerID| Genre|Age|AnnualIncome|SpendingScore|\n",
            "+----------+------+---+------------+-------------+\n",
            "|      0001|  Male| 19|          15|           39|\n",
            "|      0002|  Male| 21|          15|           81|\n",
            "|      0003|Female| 20|          16|            6|\n",
            "|      0004|Female| 23|          16|           77|\n",
            "|      0005|Female| 31|          17|           40|\n",
            "|      0006|Female| 22|          17|           76|\n",
            "|      0007|Female| 35|          18|            6|\n",
            "|      0008|Female| 23|          18|           94|\n",
            "|      0009|  Male| 64|          19|            3|\n",
            "|      0010|Female| 30|          19|           72|\n",
            "|      0011|  Male| 67|          19|           14|\n",
            "|      0012|Female| 35|          19|           99|\n",
            "|      0013|Female| 58|          20|           15|\n",
            "|      0014|Female| 24|          20|           77|\n",
            "|      0015|  Male| 37|          20|           13|\n",
            "|      0016|  Male| 22|          20|           79|\n",
            "|      0017|Female| 35|          21|           35|\n",
            "|      0018|  Male| 20|          21|           66|\n",
            "|      0019|  Male| 52|          23|           29|\n",
            "|      0020|Female| 35|          23|           98|\n",
            "+----------+------+---+------------+-------------+\n",
            "only showing top 20 rows\n",
            "\n"
          ]
        }
      ]
    },
    {
      "cell_type": "code",
      "source": [
        "df1.show()"
      ],
      "metadata": {
        "id": "ZPlQEUV2OkTu",
        "outputId": "3e892a04-ecf0-4dc5-d8c9-4f6125201a63",
        "colab": {
          "base_uri": "https://localhost:8080/"
        }
      },
      "execution_count": 59,
      "outputs": [
        {
          "output_type": "stream",
          "name": "stdout",
          "text": [
            "+----------+--------------------+\n",
            "|CustomerID|            location|\n",
            "+----------+--------------------+\n",
            "|      0001|Warrensburg Missouri|\n",
            "|      0002|Warrensburg Missouri|\n",
            "|      0003|Warrensburg Missouri|\n",
            "|      0004|Warrensburg Missouri|\n",
            "|      0005|Warrensburg Missouri|\n",
            "|      0006|Warrensburg Missouri|\n",
            "|      0007|Warrensburg Missouri|\n",
            "|      0008|Warrensburg Missouri|\n",
            "|      0009|Warrensburg Missouri|\n",
            "|      0010|Warrensburg Missouri|\n",
            "|      0011|Warrensburg Missouri|\n",
            "|      0012|Warrensburg Missouri|\n",
            "|      0013|Warrensburg Missouri|\n",
            "|      0014|Warrensburg Missouri|\n",
            "|      0015|Warrensburg Missouri|\n",
            "|      0016|Warrensburg Missouri|\n",
            "|      0017|Warrensburg Missouri|\n",
            "|      0018|Warrensburg Missouri|\n",
            "|      0019|Warrensburg Missouri|\n",
            "|      0020|Warrensburg Missouri|\n",
            "+----------+--------------------+\n",
            "only showing top 20 rows\n",
            "\n"
          ]
        }
      ]
    },
    {
      "cell_type": "code",
      "source": [
        "from pyspark.sql.functions import when\n",
        "df.select(\"CustomerID\", when(df.AnnualIncome >= \"20\", \"Rich Customer\")).show()\n"
      ],
      "metadata": {
        "id": "F2YfM2c7OojN",
        "outputId": "2741cbb5-6b57-4169-d03a-6469e0aa7125",
        "colab": {
          "base_uri": "https://localhost:8080/"
        }
      },
      "execution_count": 60,
      "outputs": [
        {
          "output_type": "stream",
          "name": "stdout",
          "text": [
            "+----------+-----------------------------------------------------+\n",
            "|CustomerID|CASE WHEN (AnnualIncome >= 20) THEN Rich Customer END|\n",
            "+----------+-----------------------------------------------------+\n",
            "|      0001|                                                 NULL|\n",
            "|      0002|                                                 NULL|\n",
            "|      0003|                                                 NULL|\n",
            "|      0004|                                                 NULL|\n",
            "|      0005|                                                 NULL|\n",
            "|      0006|                                                 NULL|\n",
            "|      0007|                                                 NULL|\n",
            "|      0008|                                                 NULL|\n",
            "|      0009|                                                 NULL|\n",
            "|      0010|                                                 NULL|\n",
            "|      0011|                                                 NULL|\n",
            "|      0012|                                                 NULL|\n",
            "|      0013|                                        Rich Customer|\n",
            "|      0014|                                        Rich Customer|\n",
            "|      0015|                                        Rich Customer|\n",
            "|      0016|                                        Rich Customer|\n",
            "|      0017|                                        Rich Customer|\n",
            "|      0018|                                        Rich Customer|\n",
            "|      0019|                                        Rich Customer|\n",
            "|      0020|                                        Rich Customer|\n",
            "+----------+-----------------------------------------------------+\n",
            "only showing top 20 rows\n",
            "\n"
          ]
        }
      ]
    },
    {
      "cell_type": "code",
      "source": [
        "from pyspark.sql.functions import filter\n",
        "df.filter(df.SpendingScore >= \"70\").show()"
      ],
      "metadata": {
        "id": "fJuXiEOLOubj",
        "outputId": "9c08258d-9006-4797-bee8-bf5a62878b82",
        "colab": {
          "base_uri": "https://localhost:8080/"
        }
      },
      "execution_count": 61,
      "outputs": [
        {
          "output_type": "stream",
          "name": "stdout",
          "text": [
            "+----------+------+---+------------+-------------+\n",
            "|CustomerID| Genre|Age|AnnualIncome|SpendingScore|\n",
            "+----------+------+---+------------+-------------+\n",
            "|      0002|  Male| 21|          15|           81|\n",
            "|      0004|Female| 23|          16|           77|\n",
            "|      0006|Female| 22|          17|           76|\n",
            "|      0008|Female| 23|          18|           94|\n",
            "|      0010|Female| 30|          19|           72|\n",
            "|      0012|Female| 35|          19|           99|\n",
            "|      0014|Female| 24|          20|           77|\n",
            "|      0016|  Male| 22|          20|           79|\n",
            "|      0020|Female| 35|          23|           98|\n",
            "|      0022|  Male| 25|          24|           73|\n",
            "|      0024|  Male| 31|          25|           73|\n",
            "|      0026|  Male| 29|          28|           82|\n",
            "|      0030|Female| 23|          29|           87|\n",
            "|      0032|Female| 21|          30|           73|\n",
            "|      0034|  Male| 18|          33|           92|\n",
            "|      0036|Female| 21|          33|           81|\n",
            "|      0038|Female| 30|          34|           73|\n",
            "|      0040|Female| 20|          37|           75|\n",
            "|      0042|  Male| 24|          38|           92|\n",
            "|      0124|  Male| 39|          69|           91|\n",
            "+----------+------+---+------------+-------------+\n",
            "only showing top 20 rows\n",
            "\n"
          ]
        }
      ]
    },
    {
      "cell_type": "code",
      "source": [
        "from pyspark.sql.functions import *\n",
        "df.filter(df.Age.isNotNull()).show()"
      ],
      "metadata": {
        "id": "piVUFSNIOyem",
        "outputId": "525b3378-7b18-4d11-864b-a4f6a1051591",
        "colab": {
          "base_uri": "https://localhost:8080/"
        }
      },
      "execution_count": 62,
      "outputs": [
        {
          "output_type": "stream",
          "name": "stdout",
          "text": [
            "+----------+------+---+------------+-------------+\n",
            "|CustomerID| Genre|Age|AnnualIncome|SpendingScore|\n",
            "+----------+------+---+------------+-------------+\n",
            "|      0001|  Male| 19|          15|           39|\n",
            "|      0002|  Male| 21|          15|           81|\n",
            "|      0003|Female| 20|          16|            6|\n",
            "|      0004|Female| 23|          16|           77|\n",
            "|      0005|Female| 31|          17|           40|\n",
            "|      0006|Female| 22|          17|           76|\n",
            "|      0007|Female| 35|          18|            6|\n",
            "|      0008|Female| 23|          18|           94|\n",
            "|      0009|  Male| 64|          19|            3|\n",
            "|      0010|Female| 30|          19|           72|\n",
            "|      0011|  Male| 67|          19|           14|\n",
            "|      0012|Female| 35|          19|           99|\n",
            "|      0013|Female| 58|          20|           15|\n",
            "|      0014|Female| 24|          20|           77|\n",
            "|      0015|  Male| 37|          20|           13|\n",
            "|      0016|  Male| 22|          20|           79|\n",
            "|      0017|Female| 35|          21|           35|\n",
            "|      0018|  Male| 20|          21|           66|\n",
            "|      0019|  Male| 52|          23|           29|\n",
            "|      0020|Female| 35|          23|           98|\n",
            "+----------+------+---+------------+-------------+\n",
            "only showing top 20 rows\n",
            "\n"
          ]
        }
      ]
    },
    {
      "cell_type": "code",
      "source": [
        "df.filter(df.Age.isNull()).show()"
      ],
      "metadata": {
        "id": "jPdLXBL8PHvN",
        "outputId": "46426a1e-8e59-4763-ccf6-c7235d315198",
        "colab": {
          "base_uri": "https://localhost:8080/"
        }
      },
      "execution_count": 63,
      "outputs": [
        {
          "output_type": "stream",
          "name": "stdout",
          "text": [
            "+----------+-----+---+------------+-------------+\n",
            "|CustomerID|Genre|Age|AnnualIncome|SpendingScore|\n",
            "+----------+-----+---+------------+-------------+\n",
            "+----------+-----+---+------------+-------------+\n",
            "\n"
          ]
        }
      ]
    },
    {
      "cell_type": "code",
      "source": [
        "df = df.na.drop()"
      ],
      "metadata": {
        "id": "a1eQZJnnTgEV"
      },
      "execution_count": 64,
      "outputs": []
    },
    {
      "cell_type": "code",
      "source": [
        "df_pandas = df.toPandas()"
      ],
      "metadata": {
        "id": "svYme10WTj6e"
      },
      "execution_count": 65,
      "outputs": []
    },
    {
      "cell_type": "code",
      "source": [
        "print(type(df_pandas))"
      ],
      "metadata": {
        "id": "kznh7pf1TnrY",
        "outputId": "22d3cd8d-461b-467e-8992-321205a5cbb4",
        "colab": {
          "base_uri": "https://localhost:8080/"
        }
      },
      "execution_count": 66,
      "outputs": [
        {
          "output_type": "stream",
          "name": "stdout",
          "text": [
            "<class 'pandas.core.frame.DataFrame'>\n"
          ]
        }
      ]
    },
    {
      "cell_type": "code",
      "source": [
        "spark.stop"
      ],
      "metadata": {
        "id": "dXImMxyLTrFd",
        "outputId": "348d36f9-6f4c-46cd-b88a-8b03b6375a62",
        "colab": {
          "base_uri": "https://localhost:8080/",
          "height": 186
        }
      },
      "execution_count": 67,
      "outputs": [
        {
          "output_type": "execute_result",
          "data": {
            "text/plain": [
              "<bound method SparkSession.stop of <pyspark.sql.session.SparkSession object at 0x7b9366a517b0>>"
            ],
            "text/html": [
              "<div style=\"max-width:800px; border: 1px solid var(--colab-border-color);\"><style>\n",
              "      pre.function-repr-contents {\n",
              "        overflow-x: auto;\n",
              "        padding: 8px 12px;\n",
              "        max-height: 500px;\n",
              "      }\n",
              "\n",
              "      pre.function-repr-contents.function-repr-contents-collapsed {\n",
              "        cursor: pointer;\n",
              "        max-height: 100px;\n",
              "      }\n",
              "    </style>\n",
              "    <pre style=\"white-space: initial; background:\n",
              "         var(--colab-secondary-surface-color); padding: 8px 12px;\n",
              "         border-bottom: 1px solid var(--colab-border-color);\"><b>pyspark.sql.session.SparkSession.stop</b><br/>def stop() -&gt; None</pre><pre class=\"function-repr-contents function-repr-contents-collapsed\" style=\"\"><a class=\"filepath\" style=\"display:none\" href=\"#\">/usr/local/lib/python3.10/dist-packages/pyspark/sql/session.py</a>Stop the underlying :class:`SparkContext`.\n",
              "\n",
              ".. versionadded:: 2.0.0\n",
              "\n",
              ".. versionchanged:: 3.4.0\n",
              "    Supports Spark Connect.\n",
              "\n",
              "Examples\n",
              "--------\n",
              "&gt;&gt;&gt; spark.stop()  # doctest: +SKIP</pre>\n",
              "      <script>\n",
              "      if (google.colab.kernel.accessAllowed && google.colab.files && google.colab.files.view) {\n",
              "        for (const element of document.querySelectorAll('.filepath')) {\n",
              "          element.style.display = 'block'\n",
              "          element.onclick = (event) => {\n",
              "            event.preventDefault();\n",
              "            event.stopPropagation();\n",
              "            google.colab.files.view(element.textContent, 1781);\n",
              "          };\n",
              "        }\n",
              "      }\n",
              "      for (const element of document.querySelectorAll('.function-repr-contents')) {\n",
              "        element.onclick = (event) => {\n",
              "          event.preventDefault();\n",
              "          event.stopPropagation();\n",
              "          element.classList.toggle('function-repr-contents-collapsed');\n",
              "        };\n",
              "      }\n",
              "      </script>\n",
              "      </div>"
            ]
          },
          "metadata": {},
          "execution_count": 67
        }
      ]
    }
  ],
  "metadata": {
    "colab": {
      "name": "Welcome To Colab",
      "provenance": [],
      "include_colab_link": true
    },
    "kernelspec": {
      "display_name": "Python 3",
      "name": "python3"
    }
  },
  "nbformat": 4,
  "nbformat_minor": 0
}